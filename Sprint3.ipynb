{
 "cells": [
  {
   "cell_type": "code",
   "execution_count": 2,
   "metadata": {},
   "outputs": [
    {
     "name": "stdout",
     "output_type": "stream",
     "text": [
      "<mysql.connector.connection_cext.CMySQLConnection object at 0x0000016AC1BFD808>\n"
     ]
    }
   ],
   "source": [
    "import mysql.connector\n",
    "mydb = mysql.connector.connect(\n",
    "  host=\"localhost\",\n",
    "  user=\"root\",\n",
    "  passwd=\"Gladile21.\"\n",
    ")\n",
    "print(mydb)"
   ]
  },
  {
   "cell_type": "code",
   "execution_count": 6,
   "metadata": {},
   "outputs": [],
   "source": [
    "import mysql.connector\n",
    "mydb = mysql.connector.connect(\n",
    "  host=\"localhost\",\n",
    "  user=\"root\",\n",
    "  passwd=\"Gladile21.\"\n",
    ")\n",
    "mycursor = mydb.cursor()\n",
    "mycursor.execute(\"CREATE DATABASE sprint\")"
   ]
  },
  {
   "cell_type": "code",
   "execution_count": 7,
   "metadata": {},
   "outputs": [
    {
     "name": "stdout",
     "output_type": "stream",
     "text": [
      "('information_schema',)\n",
      "('muzi',)\n",
      "('mydatabase',)\n",
      "('mysql',)\n",
      "('performance_schema',)\n",
      "('sakila',)\n",
      "('sprint',)\n",
      "('sprint3',)\n",
      "('store',)\n",
      "('sys',)\n",
      "('world',)\n"
     ]
    }
   ],
   "source": [
    "import mysql.connector\n",
    "mydb = mysql.connector.connect(\n",
    "  host=\"localhost\",\n",
    "  user=\"root\",\n",
    "  passwd=\"Gladile21.\",\n",
    "  database=\"world\"\n",
    ")\n",
    "mycursor = mydb.cursor()\n",
    "mycursor.execute(\"SHOW DATABASES\")\n",
    "for db in mycursor: \n",
    "    print(db)"
   ]
  },
  {
   "cell_type": "code",
   "execution_count": 31,
   "metadata": {},
   "outputs": [],
   "source": [
    "import mysql.connector\n",
    "mydb = mysql.connector.connect(\n",
    "  host=\"localhost\",\n",
    "  user=\"root\",\n",
    "  passwd=\"Gladile21.\",\n",
    "  database=\"world\"\n",
    ") \n",
    "\n",
    "cur=mydb.cursor()\n",
    "s=\"INSERT INTO store (Chips,Price,Quantity,fruit,Pies,Veggies) Values(%s,%s,%s,%s,%s,%s)\"\n",
    "sql=[\n",
    "    (\"NikNaks\",\"5\",\"20\",\"Mango\",\"Mushroom\",\"Cabagge\"),\n",
    "]\n",
    "cur.executemany(s,sql)\n",
    "mydb.commit()"
   ]
  },
  {
   "cell_type": "code",
   "execution_count": 5,
   "metadata": {},
   "outputs": [],
   "source": [
    "import mysql.connector\n",
    "mydb = mysql.connector.connect(\n",
    "  host=\"localhost\",\n",
    "  user=\"root\",\n",
    "  passwd=\"Gladile21.\",\n",
    "  database=\"world\"\n",
    ") \n",
    "\n",
    "cur=mydb.cursor()\n",
    "\n",
    "cur.execute(\"ALTER TABLE store ADD Barcode varchar(225)\")"
   ]
  },
  {
   "cell_type": "code",
   "execution_count": 40,
   "metadata": {},
   "outputs": [],
   "source": [
    "\n",
    "import mysql.connector\n",
    "mydb = mysql.connector.connect(\n",
    "  host=\"localhost\",\n",
    "  user=\"root\",\n",
    "  passwd=\"Gladile21.\",\n",
    "  database=\"world\"\n",
    ") \n",
    "\n",
    "cur=mydb.cursor()\n",
    "\n",
    "cur.execute(\"SELECT Chips FROM world.store\")"
   ]
  },
  {
   "cell_type": "code",
   "execution_count": 8,
   "metadata": {},
   "outputs": [],
   "source": [
    "import mysql.connector \n",
    "mydb = mysql.connector.connect(\n",
    "  host=\"localhost\",\n",
    "  user=\"root\",\n",
    "  passwd=\"Gladile21.\",\n",
    "  database=\"sprint\"\n",
    ")\n",
    "mycursor = mydb.cursor()\n",
    "mycursor.execute(\"CREATE TABLE bar_code (id INT AUTO_INCREMENT PRIMARY KEY, Simba VARCHAR(255), stock_price INT(255))\")"
   ]
  },
  {
   "cell_type": "code",
   "execution_count": 36,
   "metadata": {},
   "outputs": [
    {
     "name": "stdout",
     "output_type": "stream",
     "text": [
      "('chips',)\n",
      "('chocolate',)\n",
      "('city',)\n",
      "('country',)\n",
      "('countrylanguage',)\n",
      "('product',)\n",
      "('store',)\n"
     ]
    }
   ],
   "source": [
    "import mysql.connector\n",
    "mydb = mysql.connector.connect(\n",
    "  host=\"localhost\",\n",
    "  user=\"root\",\n",
    "  passwd=\"Gladile21.\",\n",
    "  database=\"world\"\n",
    ") \n",
    "db_cursor = mydb.cursor()\n",
    "#Here creating database table as student'\n",
    "db_cursor.execute(\"CREATE TABLE Chips (id INT, name VARCHAR(255))\")\n",
    "#Get database table'\n",
    "db_cursor.execute(\"SHOW TABLES\")\n",
    "for table in db_cursor:\n",
    "    print(table)"
   ]
  },
  {
   "cell_type": "code",
   "execution_count": 38,
   "metadata": {},
   "outputs": [
    {
     "name": "stdout",
     "output_type": "stream",
     "text": [
      "('chips',)\n",
      "('chocolate',)\n",
      "('city',)\n",
      "('cooldrinks',)\n",
      "('country',)\n",
      "('countrylanguage',)\n",
      "('product',)\n",
      "('store',)\n"
     ]
    }
   ],
   "source": [
    "import mysql.connector\n",
    "mydb = mysql.connector.connect(\n",
    "  host=\"localhost\",\n",
    "  user=\"root\",\n",
    "  passwd=\"Gladile21.\",\n",
    "  database=\"world\"\n",
    ") \n",
    "db_cursor = mydb.cursor()\n",
    "#Here creating database table as student'\n",
    "db_cursor.execute(\"CREATE TABLE Cooldrinks (id INT, name VARCHAR(255))\")\n",
    "#Get database table'\n",
    "db_cursor.execute(\"SHOW TABLES\")\n",
    "for table in db_cursor:\n",
    "    print(table)"
   ]
  },
  {
   "cell_type": "code",
   "execution_count": 39,
   "metadata": {},
   "outputs": [],
   "source": [
    "import mysql.connector\n",
    "mydb = mysql.connector.connect(\n",
    "  host=\"localhost\",\n",
    "  user=\"root\",\n",
    "  passwd=\"Gladile21.\",\n",
    "  database=\"world\"\n",
    ") \n",
    "db_cursor = mydb.cursor()\n",
    "#Here we modify existing column id\n",
    "db_cursor.execute(\"ALTER TABLE Chips MODIFY id INT PRIMARY KEY\")"
   ]
  },
  {
   "cell_type": "code",
   "execution_count": null,
   "metadata": {},
   "outputs": [],
   "source": []
  }
 ],
 "metadata": {
  "kernelspec": {
   "display_name": "Python 3",
   "language": "python",
   "name": "python3"
  },
  "language_info": {
   "codemirror_mode": {
    "name": "ipython",
    "version": 3
   },
   "file_extension": ".py",
   "mimetype": "text/x-python",
   "name": "python",
   "nbconvert_exporter": "python",
   "pygments_lexer": "ipython3",
   "version": "3.7.4"
  }
 },
 "nbformat": 4,
 "nbformat_minor": 2
}
